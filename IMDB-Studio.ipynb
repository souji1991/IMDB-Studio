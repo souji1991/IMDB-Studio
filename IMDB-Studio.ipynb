{
 "cells": [
  {
   "cell_type": "markdown",
   "id": "2f470e67-1623-4416-b9c2-8367f7834a26",
   "metadata": {},
   "source": [
    "# Exploratory Data Analysis part 1 Studio\n",
    "\n",
    "## Data Analysis of IMDB movies data\n",
    "\n",
    "#### The studio will continue working through the [\"A Comprehensive Guide To Data Analysis using Pandas: Hands-On Data Analysis on IMDB movies data\"](https://www.analyticsvidhya.com/blog/2021/05/a-comprehensive-guide-to-data-analysis-using-pandas-hands-on-data-analysis-on-imdb-movies-data/) in the **Data Analysis of IMDB movies data** section\n",
    "\n",
    "#### Blocks have been created for your code\n",
    "\n",
    "#### Follow the link in the article to download the dataset from [Kaggle](https://www.kaggle.com/PromptCloudHQ/imdb-data).  Link contained within the article."
   ]
  },
  {
   "cell_type": "markdown",
   "id": "34632281-1e15-44b1-a3e3-b82ddacb5cbd",
   "metadata": {},
   "source": [
    "### 1. Read data"
   ]
  },
  {
   "cell_type": "code",
   "execution_count": null,
   "id": "070ebed9-c948-4821-9a24-67f0e3fe8fce",
   "metadata": {},
   "outputs": [],
   "source": [
    "# import pandas\n",
    "import pandas as pd\n",
    "# create your data variabe using .read_csv \n",
    "data = pd.read_csv('IMDB-Movie-Data.csv')\n",
    "# create your data_indexed varialbe here\n",
    "data_index = pd.read_csv(\"IMDB-Movie-Data.csv\", index_col =\"Title\")"
   ]
  },
  {
   "cell_type": "code",
   "execution_count": null,
   "id": "608c357a-271b-49c1-9b96-68b5c1cb7046",
   "metadata": {},
   "outputs": [],
   "source": [
    "# If you are having trouble reading your file, try finding the path.  \n",
    "    # Right click on your data set, on the pop-up menu select \"Copy Path\" then paste it into your read_csv() function."
   ]
  },
  {
   "cell_type": "code",
   "execution_count": null,
   "id": "5d8b578c-750c-491b-98d5-140a237ad940",
   "metadata": {},
   "outputs": [],
   "source": [
    "# Read data with specified explicit index\n",
    "\n",
    "\n",
    "#print(data_indexed)"
   ]
  },
  {
   "cell_type": "markdown",
   "id": "f449d3ea-91fe-45f5-8d6b-e6ccab3502d7",
   "metadata": {
    "tags": []
   },
   "source": [
    "### 2. View Data\n",
    "#### As we go through this section, write your own definitions of what each function does as a comment in the code box."
   ]
  },
  {
   "cell_type": "code",
   "execution_count": null,
   "id": "ac9b2d61-7ed5-4e83-995d-c498036f37f9",
   "metadata": {},
   "outputs": [],
   "source": [
    "# Use the head() function to view the first 5 rows of the data set\n",
    "\n",
    "data.head()"
   ]
  },
  {
   "cell_type": "code",
   "execution_count": null,
   "id": "3fffca4b-90f4-4f73-a9af-f0b02886f8b3",
   "metadata": {},
   "outputs": [],
   "source": [
    "# Use the tail() function to view the last 5 rows of the data set\n",
    "\n",
    "data.tail()"
   ]
  },
  {
   "cell_type": "markdown",
   "id": "e03bbc57-a8cf-48da-9057-3b1f6b642a08",
   "metadata": {},
   "source": [
    "### 3. Understand basic information about the data\n",
    "#### As we go through this section, write your own definitions of what each function does as a comment in the code box."
   ]
  },
  {
   "cell_type": "code",
   "execution_count": null,
   "id": "f303e7fb-0e02-48e2-8390-66eefca899aa",
   "metadata": {
    "scrolled": true
   },
   "outputs": [],
   "source": [
    "# The info() function: \n",
    "data.info()\n"
   ]
  },
  {
   "cell_type": "code",
   "execution_count": null,
   "id": "ade5ce1f-7a2a-4940-a0f9-eed7891154ff",
   "metadata": {},
   "outputs": [],
   "source": [
    "# shape:\n",
    "\n",
    "data.shape\n",
    "# what information does shape provide?  what is the order?"
   ]
  },
  {
   "cell_type": "code",
   "execution_count": null,
   "id": "791db782-5041-4259-a3e4-d14c6e2e248a",
   "metadata": {},
   "outputs": [],
   "source": [
    "# columns:\n",
    "data.columns\n",
    "\n",
    "# what information does columns provide?"
   ]
  },
  {
   "cell_type": "code",
   "execution_count": null,
   "id": "994c8783-3f4b-4f56-b9fb-1b50193f1fab",
   "metadata": {},
   "outputs": [],
   "source": [
    "# The describe() function: \n",
    "data.describe()\n"
   ]
  },
  {
   "cell_type": "markdown",
   "id": "7293ea51-6d32-43ab-8d26-268bdea21de1",
   "metadata": {},
   "source": [
    "### 4. Data Selection -- Indexing and Slicing"
   ]
  },
  {
   "cell_type": "code",
   "execution_count": null,
   "id": "b3e134af-4ef9-4a9f-9ee1-d507905764e7",
   "metadata": {},
   "outputs": [],
   "source": [
    "#  Extract data as series\n",
    "# define and print the variable 'genre'\n",
    "genre = data['Genre']\n"
   ]
  },
  {
   "cell_type": "code",
   "execution_count": null,
   "id": "33307a39-0656-4598-8489-55bc80a253eb",
   "metadata": {},
   "outputs": [],
   "source": [
    "# Extract the data as a dataframe and print it\n",
    "\n",
    "data[[\"Genre\"]]\n",
    "some_col = data[['Title','Genre','Actors','Director','Rating']]\n",
    "print(some_col.info())"
   ]
  },
  {
   "cell_type": "code",
   "execution_count": null,
   "id": "0530ffd1-e143-4a7a-a4e2-c2e88de188f9",
   "metadata": {},
   "outputs": [],
   "source": [
    "# Extract data using rows\n",
    "\n",
    "# loc function\n",
    "data_indexed.loc[['Suicide Squad']] [['Genre','Actors','Director','Rating','Revenue (Millions)']]\n"
   ]
  },
  {
   "cell_type": "code",
   "execution_count": null,
   "id": "7ed5a16d-7302-4c0c-bf9e-0295a8cee090",
   "metadata": {},
   "outputs": [],
   "source": [
    "# iloc function\n",
    "data.iloc[10:15][['Title','Rating','Revenue (Millions)']]\n"
   ]
  },
  {
   "cell_type": "markdown",
   "id": "35d10282-730f-49c3-bca1-55a990811c80",
   "metadata": {},
   "source": [
    "### 5. Data Selection - Based on Conditional Filtering"
   ]
  },
  {
   "cell_type": "code",
   "execution_count": 6,
   "id": "97cac6a1-dd88-4a8c-86e8-514312bf1bb0",
   "metadata": {
    "scrolled": true
   },
   "outputs": [
    {
     "ename": "NameError",
     "evalue": "name 'data' is not defined",
     "output_type": "error",
     "traceback": [
      "\u001b[0;31m---------------------------------------------------------------------------\u001b[0m",
      "\u001b[0;31mNameError\u001b[0m                                 Traceback (most recent call last)",
      "\u001b[0;32m/var/folders/mq/ylj5z08x5mx59bw0_nz_pfhm0000gn/T/ipykernel_6601/3535912450.py\u001b[0m in \u001b[0;36m<module>\u001b[0;34m\u001b[0m\n\u001b[1;32m      1\u001b[0m \u001b[0;31m# Use the code block to select movies that have been release between 2010-2016, with a rating of less than 6.0, but generated a signifianct (top) revenue.\u001b[0m\u001b[0;34m\u001b[0m\u001b[0;34m\u001b[0m\u001b[0;34m\u001b[0m\u001b[0m\n\u001b[1;32m      2\u001b[0m \u001b[0;34m\u001b[0m\u001b[0m\n\u001b[0;32m----> 3\u001b[0;31m data [((data['Year']>=2010) & (data['Year']<=2016))\n\u001b[0m\u001b[1;32m      4\u001b[0m      \u001b[0;34m&\u001b[0m \u001b[0;34m(\u001b[0m\u001b[0mdata\u001b[0m\u001b[0;34m[\u001b[0m\u001b[0;34m'Rating'\u001b[0m\u001b[0;34m]\u001b[0m \u001b[0;34m<\u001b[0m\u001b[0;36m0.6\u001b[0m\u001b[0;34m)\u001b[0m\u001b[0;34m\u001b[0m\u001b[0;34m\u001b[0m\u001b[0m\n\u001b[1;32m      5\u001b[0m      & (data['Revenue (Millions)'] > data['Revenue (Millions)'].quantile(0.95))]\n",
      "\u001b[0;31mNameError\u001b[0m: name 'data' is not defined"
     ]
    }
   ],
   "source": [
    "# Use the code block to select movies that have been release between 2010-2016, with a rating of less than 6.0, but generated a signifianct (top) revenue.\n",
    "\n",
    "data [((data['Year']>=2010) & (data['Year']<=2016))\n",
    "     & (data['Rating'] <0.6)\n",
    "     & (data['Revenue (Millions)'] > data['Revenue (Millions)'].quantile(0.95))]\n"
   ]
  },
  {
   "cell_type": "code",
   "execution_count": 7,
   "id": "f0c045a1-200a-4d58-9b9f-480edb106765",
   "metadata": {},
   "outputs": [
    {
     "ename": "NameError",
     "evalue": "name 'data' is not defined",
     "output_type": "error",
     "traceback": [
      "\u001b[0;31m---------------------------------------------------------------------------\u001b[0m",
      "\u001b[0;31mNameError\u001b[0m                                 Traceback (most recent call last)",
      "\u001b[0;32m/var/folders/mq/ylj5z08x5mx59bw0_nz_pfhm0000gn/T/ipykernel_6601/1183734413.py\u001b[0m in \u001b[0;36m<module>\u001b[0;34m\u001b[0m\n\u001b[1;32m      2\u001b[0m \u001b[0;31m#To find the second Twilight movie, try manipulating the quantile value.\u001b[0m\u001b[0;34m\u001b[0m\u001b[0;34m\u001b[0m\u001b[0;34m\u001b[0m\u001b[0m\n\u001b[1;32m      3\u001b[0m \u001b[0;31m#How specific can you get?\u001b[0m\u001b[0;34m\u001b[0m\u001b[0;34m\u001b[0m\u001b[0;34m\u001b[0m\u001b[0m\n\u001b[0;32m----> 4\u001b[0;31m data[((data['Year']>=2010) & (data['Year']<=2016))\n\u001b[0m\u001b[1;32m      5\u001b[0m      \u001b[0;34m&\u001b[0m \u001b[0;34m(\u001b[0m\u001b[0mdata\u001b[0m\u001b[0;34m[\u001b[0m\u001b[0;34m'Rating'\u001b[0m\u001b[0;34m]\u001b[0m \u001b[0;34m<\u001b[0m\u001b[0;36m0.6\u001b[0m\u001b[0;34m)\u001b[0m\u001b[0;34m\u001b[0m\u001b[0;34m\u001b[0m\u001b[0m\n\u001b[1;32m      6\u001b[0m      & (data['Revenue (Millions)'] > data['Revenue (Millions)'].quantile(0.945))]\n",
      "\u001b[0;31mNameError\u001b[0m: name 'data' is not defined"
     ]
    }
   ],
   "source": [
    "# Note: The article is expecting more than 1 Twilight movie at the time of publishing.  \n",
    "#To find the second Twilight movie, try manipulating the quantile value.  \n",
    "#How specific can you get?\n",
    "data[((data['Year']>=2010) & (data['Year']<=2016))\n",
    "     & (data['Rating'] <0.6)\n",
    "     & (data['Revenue (Millions)'] > data['Revenue (Millions)'].quantile(0.945))]\n"
   ]
  },
  {
   "cell_type": "code",
   "execution_count": null,
   "id": "5f04a46e-5d8e-4bda-a917-945bdc81a9e2",
   "metadata": {},
   "outputs": [],
   "source": []
  },
  {
   "cell_type": "code",
   "execution_count": null,
   "id": "f000df51",
   "metadata": {},
   "outputs": [],
   "source": []
  },
  {
   "cell_type": "code",
   "execution_count": null,
   "id": "e3b692ed",
   "metadata": {},
   "outputs": [],
   "source": []
  },
  {
   "cell_type": "code",
   "execution_count": null,
   "id": "0051212d",
   "metadata": {},
   "outputs": [],
   "source": []
  },
  {
   "cell_type": "code",
   "execution_count": null,
   "id": "59008719",
   "metadata": {},
   "outputs": [],
   "source": []
  },
  {
   "cell_type": "code",
   "execution_count": null,
   "id": "3424dfa0",
   "metadata": {},
   "outputs": [],
   "source": []
  },
  {
   "cell_type": "code",
   "execution_count": null,
   "id": "11a8f712",
   "metadata": {},
   "outputs": [],
   "source": []
  }
 ],
 "metadata": {
  "kernelspec": {
   "display_name": "Python 3 (ipykernel)",
   "language": "python",
   "name": "python3"
  },
  "language_info": {
   "codemirror_mode": {
    "name": "ipython",
    "version": 3
   },
   "file_extension": ".py",
   "mimetype": "text/x-python",
   "name": "python",
   "nbconvert_exporter": "python",
   "pygments_lexer": "ipython3",
   "version": "3.7.16"
  }
 },
 "nbformat": 4,
 "nbformat_minor": 5
}
